{
 "cells": [
  {
   "cell_type": "markdown",
   "metadata": {},
   "source": [
    "# Project S5 - Building a single cell model from Allen Database using BMTK\n",
    "\n",
    "### Goals\n",
    "1.\tContinuing to learn to use APIs – You have used the following APIs so far: ```CellTypesApi``` and ```RmaApi```. In this project you will use the  ```BiophysicalApi``` to download a biophysical NEURON model from Allen database.\n",
    "2.\tLearning how to model single neurons using BMTK - Build a single cell model in BMTK, simulate current clamp experiment, and compare electrophysiology features with experimental data.\n",
    "\n",
    "### Introduction\n",
    "The Allen Cell Types Database contains biophysical models that characterize the firing behavior of neurons measured in slices through current injection by a somatic whole-cell patch clamp electrode.  \n",
    "The biophysical models are run with the NEURON simulation environment. The Allen SDK package contains libraries that assist in downloading and setting up the models available on the Allen Institute web site for users to run using NEURON. The examples and scripts provided run __on Linux__ using the bash shell.\n",
    "\n",
    "\n",
    "__Some useful links to the Allen website:__  \n",
    "&emsp;__[Introduction to Biophysical Models](https://allensdk.readthedocs.io/en/latest/biophysical_models.html)__  \n",
    "&emsp;__[Cell Type Database](http://celltypes.brain-map.org/)__   \n",
    "&emsp;__[Example jupyter notebook - Stimulating a biophysical model with a square pulse](https://allensdk.readthedocs.io/en/latest/_static/examples/nb/pulse_stimulus.html)__ \n",
    "\n",
    "### Procedure\n",
    "#### 1. Download a biophysical NEURON model.\n",
    "There are two ways to download files necessary to run a biophysical model. The first way is to visit __[Cell Type Database](http://celltypes.brain-map.org/)__ and find cells that have biophysical models available for download (Select from the Venn diagrams). The electrophysiology page of a cell has a neuronal model download link. Specifically:\n",
    "\n",
    "&emsp;Click 'Electrophysiology' of a cell  \n",
    "&emsp;Click 'Select neuronal model'  \n",
    "&emsp;Check Models -> 'Biophysical - perisomatic' or 'Biophysical - all active'   \n",
    "&emsp;Scroll down and click the 'Biophysical - perisomatic' or 'Biophysical - all active' 'Download model' link.\n",
    "\n",
    "The second way is to programmatically download it using API. The neuronal model id can be found to the left of the corresponding 'Biophysical - perisomatic' or 'Biophysical - all active' 'Download model' link.  \n",
    "We will adopt the second way to download the files using the following codes adapted from the example juptyer notebook given in the links."
   ]
  },
  {
   "cell_type": "markdown",
   "metadata": {},
   "source": [
    "Download model files according to the __model id__ which is not the same as __specimen id__,"
   ]
  },
  {
   "cell_type": "code",
   "execution_count": 2,
   "metadata": {
    "scrolled": false
   },
   "outputs": [
    {
     "name": "stderr",
     "output_type": "stream",
     "text": [
      "2021-04-28 23:33:41,238 allensdk.api.api.retrieve_file_over_http INFO     Downloading URL: http://api.brain-map.org/api/v2/well_known_file_download/491459173\n",
      "2021-04-28 23:33:41,626 allensdk.api.api.retrieve_file_over_http INFO     Downloading URL: http://api.brain-map.org/api/v2/well_known_file_download/496607103\n",
      "2021-04-28 23:33:41,787 allensdk.api.api.retrieve_file_over_http INFO     Downloading URL: http://api.brain-map.org/api/v2/well_known_file_download/395337293\n",
      "2021-04-28 23:33:41,963 allensdk.api.api.retrieve_file_over_http INFO     Downloading URL: http://api.brain-map.org/api/v2/well_known_file_download/395337054\n",
      "2021-04-28 23:33:42,124 allensdk.api.api.retrieve_file_over_http INFO     Downloading URL: http://api.brain-map.org/api/v2/well_known_file_download/395337225\n",
      "2021-04-28 23:33:42,283 allensdk.api.api.retrieve_file_over_http INFO     Downloading URL: http://api.brain-map.org/api/v2/well_known_file_download/395337019\n",
      "2021-04-28 23:33:42,441 allensdk.api.api.retrieve_file_over_http INFO     Downloading URL: http://api.brain-map.org/api/v2/well_known_file_download/395337003\n",
      "2021-04-28 23:33:42,601 allensdk.api.api.retrieve_file_over_http INFO     Downloading URL: http://api.brain-map.org/api/v2/well_known_file_download/395337050\n",
      "2021-04-28 23:33:42,760 allensdk.api.api.retrieve_file_over_http INFO     Downloading URL: http://api.brain-map.org/api/v2/well_known_file_download/395337042\n",
      "2021-04-28 23:33:42,943 allensdk.api.api.retrieve_file_over_http INFO     Downloading URL: http://api.brain-map.org/api/v2/well_known_file_download/395337011\n",
      "2021-04-28 23:33:43,102 allensdk.api.api.retrieve_file_over_http INFO     Downloading URL: http://api.brain-map.org/api/v2/well_known_file_download/395337046\n",
      "2021-04-28 23:33:43,259 allensdk.api.api.retrieve_file_over_http INFO     Downloading URL: http://api.brain-map.org/api/v2/well_known_file_download/395337015\n",
      "2021-04-28 23:33:43,418 allensdk.api.api.retrieve_file_over_http INFO     Downloading URL: http://api.brain-map.org/api/v2/well_known_file_download/395337066\n",
      "2021-04-28 23:33:43,594 allensdk.api.api.retrieve_file_over_http INFO     Downloading URL: http://api.brain-map.org/api/v2/well_known_file_download/464138096\n",
      "2021-04-28 23:33:43,767 allensdk.api.api.retrieve_file_over_http INFO     Downloading URL: http://api.brain-map.org/api/v2/well_known_file_download/395337007\n",
      "2021-04-28 23:33:43,938 allensdk.api.api.retrieve_file_over_http INFO     Downloading URL: http://api.brain-map.org/api/v2/well_known_file_download/395337062\n",
      "2021-04-28 23:33:44,100 allensdk.api.api.retrieve_file_over_http INFO     Downloading URL: http://api.brain-map.org/api/v2/well_known_file_download/491113425\n",
      "2021-04-28 23:33:44,277 allensdk.api.api.retrieve_file_over_http INFO     Downloading URL: http://api.brain-map.org/api/v2/well_known_file_download/395337070\n",
      "2021-04-28 23:33:44,438 allensdk.api.api.retrieve_file_over_http INFO     Downloading URL: http://api.brain-map.org/api/v2/well_known_file_download/497235805\n"
     ]
    }
   ],
   "source": [
    "from allensdk.api.queries.biophysical_api import BiophysicalApi\n",
    "\n",
    "neuronal_model_id = 472451419    # get this from the web site\n",
    "model_directory = './source/'    # the files will be downloaded to the 'source' folder under current directory\n",
    "\n",
    "bp = BiophysicalApi('http://api.brain-map.org')\n",
    "bp.cache_stimulus = False # don't want to download the large stimulus NWB file\n",
    "bp.cache_data(neuronal_model_id, working_directory=model_directory)"
   ]
  },
  {
   "cell_type": "markdown",
   "metadata": {},
   "source": [
    "#### 2. Check cell information and electrophysiology features.\n",
    "After downloading is done, the __specimen id__ can be found in the file name of xxxxxx_fit.json which contains biophysical model parameters.  \n",
    "For this example, it is 386049446. Use the API to access the Cell Type Database to see the cell information and its electrophysiology features from biological recordings as you did in Project S4-2."
   ]
  },
  {
   "cell_type": "code",
   "execution_count": 3,
   "metadata": {
    "scrolled": true
   },
   "outputs": [
    {
     "data": {
      "text/plain": [
       "{'cell_reporter_status': 'positive',\n",
       " 'csl__normalized_depth': 0.369535013823174,\n",
       " 'csl__x': 8627.12987123298,\n",
       " 'csl__y': 857.28871673753,\n",
       " 'csl__z': 7777.58376005663,\n",
       " 'donor__age': '',\n",
       " 'donor__disease_state': '',\n",
       " 'donor__id': 339692362,\n",
       " 'donor__name': 'Nr5a1-Cre;Ai14(IVSCC)-177334',\n",
       " 'donor__race': '',\n",
       " 'donor__sex': '',\n",
       " 'donor__species': 'Mus musculus',\n",
       " 'donor__years_of_seizure_history': '',\n",
       " 'ef__adaptation': 0.0450018072271697,\n",
       " 'ef__avg_firing_rate': 11.0791048083315,\n",
       " 'ef__avg_isi': 90.26,\n",
       " 'ef__f_i_curve_slope': 0.172321437682424,\n",
       " 'ef__fast_trough_v_long_square': -53.03125,\n",
       " 'ef__peak_t_ramp': 6.25953666666667,\n",
       " 'ef__ri': 123.281359672546,\n",
       " 'ef__tau': 12.7026528308998,\n",
       " 'ef__threshold_i_long_square': 110.0,\n",
       " 'ef__upstroke_downstroke_ratio_long_square': 3.52442479462201,\n",
       " 'ef__vrest': -85.1570739746094,\n",
       " 'ephys_inst_thresh_thumb_path': '/api/v2/well_known_file_download/491383263',\n",
       " 'ephys_thumb_path': '/api/v2/well_known_file_download/487614229',\n",
       " 'erwkf__id': 491198851,\n",
       " 'line_name': 'Nr5a1-Cre',\n",
       " 'm__biophys': 2,\n",
       " 'm__biophys_all_active': 1,\n",
       " 'm__biophys_perisomatic': 1,\n",
       " 'm__glif': 2,\n",
       " 'morph_thumb_path': '/api/v2/well_known_file_download/487660477',\n",
       " 'nr__average_contraction': 0.924610944456856,\n",
       " 'nr__average_parent_daughter_ratio': 0.882944233914226,\n",
       " 'nr__max_euclidean_distance': 346.003240593379,\n",
       " 'nr__number_bifurcations': 17,\n",
       " 'nr__number_stems': 5,\n",
       " 'nr__reconstruction_type': 'dendrite-only',\n",
       " 'nrwkf__id': 491459173,\n",
       " 'si__height': 7609,\n",
       " 'si__path': '/external/mousecelltypes/prod256/specimen_386049446/min_xy_386049446.aff',\n",
       " 'si__width': 7610,\n",
       " 'specimen__hemisphere': 'left',\n",
       " 'specimen__id': 386049446,\n",
       " 'specimen__name': 'Nr5a1-Cre;Ai14-177334.05.01.01',\n",
       " 'structure__acronym': 'VISp4',\n",
       " 'structure__id': 721,\n",
       " 'structure__layer': '4',\n",
       " 'structure__name': '\"Primary visual area, layer 4\"',\n",
       " 'structure_parent__acronym': 'VISp',\n",
       " 'structure_parent__id': 385,\n",
       " 'tag__apical': 'intact',\n",
       " 'tag__dendrite_type': 'spiny'}"
      ]
     },
     "execution_count": 3,
     "metadata": {},
     "output_type": "execute_result"
    }
   ],
   "source": [
    "from allensdk.api.queries.cell_types_api import CellTypesApi\n",
    "cta = CellTypesApi() # the CellTypesApi instance\n",
    "cell = cta.get_cell(386049446)\n",
    "cell"
   ]
  },
  {
   "cell_type": "code",
   "execution_count": 4,
   "metadata": {},
   "outputs": [
    {
     "data": {
      "text/plain": [
       "{'adaptation': 0.0450018072271697,\n",
       " 'avg_isi': 90.26,\n",
       " 'electrode_0_pa': 22.9562497483515,\n",
       " 'f_i_curve_slope': 0.172321437682424,\n",
       " 'fast_trough_t_long_square': 1.12969,\n",
       " 'fast_trough_t_ramp': 6.261465,\n",
       " 'fast_trough_t_short_square': 1.02522375,\n",
       " 'fast_trough_v_long_square': -53.03125,\n",
       " 'fast_trough_v_ramp': -52.0625012715658,\n",
       " 'fast_trough_v_short_square': -52.9687519073486,\n",
       " 'has_burst': False,\n",
       " 'has_delay': False,\n",
       " 'has_pause': False,\n",
       " 'id': 396494722,\n",
       " 'input_resistance_mohm': 176.9292,\n",
       " 'latency': 0.04582,\n",
       " 'peak_t_long_square': 1.12778,\n",
       " 'peak_t_ramp': 6.25953666666667,\n",
       " 'peak_t_short_square': 1.02349125,\n",
       " 'peak_v_long_square': 33.15625,\n",
       " 'peak_v_ramp': 41.9583358764648,\n",
       " 'peak_v_short_square': 35.9218759536743,\n",
       " 'rheobase_sweep_id': 396429054,\n",
       " 'rheobase_sweep_number': 44,\n",
       " 'ri': 123.281359672546,\n",
       " 'sag': 0.0316939763724804,\n",
       " 'seal_gohm': 3.10554368,\n",
       " 'slow_trough_t_long_square': 1.175875,\n",
       " 'slow_trough_t_ramp': 6.29017,\n",
       " 'slow_trough_t_short_square': 1.72551,\n",
       " 'slow_trough_v_long_square': -59.09375,\n",
       " 'slow_trough_v_ramp': -58.1354179382324,\n",
       " 'slow_trough_v_short_square': -84.7109375,\n",
       " 'specimen_id': 386049446,\n",
       " 'tau': 12.7026528308998,\n",
       " 'threshold_i_long_square': 110.0,\n",
       " 'threshold_i_ramp': 130.958333333333,\n",
       " 'threshold_i_short_square': 840.0,\n",
       " 'threshold_t_long_square': 1.12727,\n",
       " 'threshold_t_ramp': 6.25906,\n",
       " 'threshold_t_short_square': 1.0230625,\n",
       " 'threshold_v_long_square': -45.28125,\n",
       " 'threshold_v_ramp': -40.1458333333333,\n",
       " 'threshold_v_short_square': -46.2031259536743,\n",
       " 'thumbnail_sweep_id': 396429034,\n",
       " 'trough_t_long_square': 1.175875,\n",
       " 'trough_t_ramp': 6.29017,\n",
       " 'trough_t_short_square': 1.72551,\n",
       " 'trough_v_long_square': -59.09375,\n",
       " 'trough_v_ramp': -58.1354179382324,\n",
       " 'trough_v_short_square': -84.7109375,\n",
       " 'upstroke_downstroke_ratio_long_square': 3.52442479462201,\n",
       " 'upstroke_downstroke_ratio_ramp': 3.70285736190798,\n",
       " 'upstroke_downstroke_ratio_short_square': 3.54903700402711,\n",
       " 'vm_for_sag': -99.6562576293945,\n",
       " 'vrest': -85.1570739746094}"
      ]
     },
     "execution_count": 4,
     "metadata": {},
     "output_type": "execute_result"
    }
   ],
   "source": [
    "from allensdk.api.queries.rma_api import RmaApi\n",
    "rma = RmaApi() # the RmaApi instance\n",
    "data = rma.model_query(model='EphysFeature',criteria='[specimen_id$eq386049446]')[0]\n",
    "data"
   ]
  },
  {
   "cell_type": "markdown",
   "metadata": {},
   "source": [
    "#### 3. Simulate in NEURON (from the example notebook)\n",
    "The following part runs a simulation with a current clamp using NEURON."
   ]
  },
  {
   "cell_type": "code",
   "execution_count": 5,
   "metadata": {},
   "outputs": [],
   "source": [
    "# based on allensdk.model.biophysical.biophysical_perisomatic.runner\n",
    "\n",
    "# These will be useful for accessing and configuring the downloaded model\n",
    "from allensdk.model.biophys_sim.config import Config\n",
    "from allensdk.model.biophysical.utils import Utils\n",
    "\n",
    "# not using NwbDataSet\n",
    "# from allensdk.core.nwb_data_set import NwbDataSet\n",
    "\n",
    "# We'll save results to a simple text file instead\n",
    "from allensdk.core.dat_utilities import DatUtilities\n",
    "\n",
    "import os\n",
    "cwd = os.getcwd()"
   ]
  },
  {
   "cell_type": "markdown",
   "metadata": {},
   "source": [
    "Compile modfiles in 'source' folder. If this does not work in Windows, manually compile the 'modfiles' folder and move the 'nrnmech.dll' file to the 'source' folder."
   ]
  },
  {
   "cell_type": "code",
   "execution_count": 6,
   "metadata": {
    "scrolled": true
   },
   "outputs": [
    {
     "name": "stdout",
     "output_type": "stream",
     "text": [
      "0\n"
     ]
    }
   ],
   "source": [
    "os.chdir('source')\n",
    "print(os.system('nrnivmodl modfiles')) # compile modfiles. Return 0 for success, 1 for failure.\n",
    "os.chdir(cwd)"
   ]
  },
  {
   "cell_type": "markdown",
   "metadata": {},
   "source": [
    "Set up model configurations."
   ]
  },
  {
   "cell_type": "code",
   "execution_count": 7,
   "metadata": {},
   "outputs": [],
   "source": [
    "os.chdir('source')\n",
    "\n",
    "description = Config().load('manifest.json')\n",
    "utils = Utils(description)\n",
    "h = utils.h # NEURON handle\n",
    "\n",
    "# configure model\n",
    "manifest = description.manifest\n",
    "morphology_path = description.manifest.get_path('MORPHOLOGY')\n",
    "utils.generate_morphology(morphology_path.encode('ascii', 'ignore'))\n",
    "utils.load_cell_parameters()\n",
    "\n",
    "os.chdir(cwd)"
   ]
  },
  {
   "cell_type": "markdown",
   "metadata": {},
   "source": [
    "At this point the cell model has been fully set up in NEURON.\n",
    "\n",
    "Configure a simple current-clamp stimulus to generate some spikes."
   ]
  },
  {
   "cell_type": "code",
   "execution_count": 8,
   "metadata": {},
   "outputs": [],
   "source": [
    "stim = h.IClamp(h.soma[0](0.5))\n",
    "stim.amp = 0.18  # nA\n",
    "stim.delay = 500.0\n",
    "stim.dur = 1000.0\n",
    "\n",
    "h.tstop = 2000.0\n",
    "\n",
    "vec = utils.record_values()"
   ]
  },
  {
   "cell_type": "code",
   "execution_count": 9,
   "metadata": {},
   "outputs": [
    {
     "data": {
      "text/plain": [
       "0.0"
      ]
     },
     "execution_count": 9,
     "metadata": {},
     "output_type": "execute_result"
    }
   ],
   "source": [
    "h.finitialize()\n",
    "h.run()"
   ]
  },
  {
   "cell_type": "markdown",
   "metadata": {},
   "source": [
    "Save the result to a simple time and voltage space-separated text file."
   ]
  },
  {
   "cell_type": "code",
   "execution_count": 10,
   "metadata": {},
   "outputs": [],
   "source": [
    "import numpy\n",
    "\n",
    "output_path = './source/output_voltage.dat'\n",
    "\n",
    "junction_potential = description.data['fitting'][0]['junction_potential']\n",
    "mV = 1.0e-3\n",
    "ms = 1.0e-3\n",
    "\n",
    "output_data = (numpy.array(vec['v']) - junction_potential) * mV\n",
    "output_times = numpy.array(vec['t']) * ms\n",
    "\n",
    "data = numpy.transpose(numpy.vstack((output_times, output_data)))\n",
    "with open (output_path, \"w\") as f:\n",
    "    numpy.savetxt(f, data)"
   ]
  },
  {
   "cell_type": "markdown",
   "metadata": {},
   "source": [
    "Plot membrane voltage trace."
   ]
  },
  {
   "cell_type": "code",
   "execution_count": 11,
   "metadata": {
    "scrolled": false
   },
   "outputs": [
    {
     "data": {
      "image/png": "[encoded data removed]",
      "text/plain": [
       "<Figure size 432x288 with 1 Axes>"
      ]
     },
     "metadata": {
      "needs_background": "light"
     },
     "output_type": "display_data"
    }
   ],
   "source": [
    "%matplotlib inline\n",
    "import matplotlib.pyplot as plt\n",
    "plt.plot(vec['t'], numpy.array(vec['v']) - junction_potential)\n",
    "plt.xlabel('time (ms)')\n",
    "plt.ylabel('membrane potential (mV)')\n",
    "plt.show()"
   ]
  },
  {
   "cell_type": "markdown",
   "metadata": {},
   "source": [
    "#### 4. Build a single cell model in BMTK using downloaded files.\n",
    "Follow the BMTK tutorial 01 and use the files downloaded in the previous notebook to build a single cell model. If you need more instructions on how to build a model, try out the notebook ```01_single_cell_clamped_S5.ipynb``` adapted from the BMTK tutorial 01 for building the model of the example cell downloaded in this notebook."
   ]
  },
  {
   "cell_type": "markdown",
   "metadata": {},
   "source": [
    "### Details of Tasks\n",
    "1. Download a perisomatic model with __model_id = 485591806__ or choose another cell that has biophysical model available from the Allen Cell Type database website using this notebook as example.\n",
    "2. Then build the single cell model with current clamp using BMTK.\n",
    "3. Simulate with different current amplitudes using the model you build and find out the threshold for the neuron to fire. Compare the threshold you find with ```threshold_i_long_square``` (unit: pA) given in the electrophysiology features from the biological recordings.\n",
    "4. You can also compare other features if you are interested (Optional). Check __[electrophysiology overview technical whitepaper](http://help.brain-map.org/download/attachments/8323525/CellTypes_Ephys_Overview.pdf)__ to see how the electrophysiology features are quantified.\n",
    "5. Finally, in your own words, describe what you learned from this project. Also, comment on what can be improved in the project."
   ]
  },
  {
   "cell_type": "code",
   "execution_count": null,
   "metadata": {},
   "outputs": [],
   "source": []
  }
 ],
 "metadata": {
  "kernelspec": {
   "display_name": "Python 3",
   "language": "python",
   "name": "python3"
  },
  "language_info": {
   "codemirror_mode": {
    "name": "ipython",
    "version": 3
   },
   "file_extension": ".py",
   "mimetype": "text/x-python",
   "name": "python",
   "nbconvert_exporter": "python",
   "pygments_lexer": "ipython3",
   "version": "3.8.3"
  }
 },
 "nbformat": 4,
 "nbformat_minor": 1
}
