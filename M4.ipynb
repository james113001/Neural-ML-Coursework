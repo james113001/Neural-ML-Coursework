{
 "cells": [
  {
   "cell_type": "markdown",
   "metadata": {},
   "source": [
    "1.3 Create a Jupyter Notebook to read in the data. Add a markdown cell to explain the data and what are the inputs and output. Also answer whether this is a classification or regression problem."
   ]
  },
  {
   "cell_type": "markdown",
   "metadata": {},
   "source": [
    "The EEG data was collected from 10 college students who were attached to electrodes on the head. The students watched a 2 minute clip from each of 10 videos, which ranged from an easily understood topic to a difficult topic. The electrodes recorded the brain signal every 0.5 seconds for the middle minute from each of the 10 videos.\n",
    "\n",
    "The students self-reported their level of confusion after each video, and an binary expectation of their confusion is also recorded in the data.\n",
    "\n",
    "The input is the varying brain signals from watching a video while the output is the classification of whether the student with the electrodes was confused or not.\n",
    "\n",
    "This is a classification problem"
   ]
  },
  {
   "cell_type": "code",
   "execution_count": 1,
   "metadata": {},
   "outputs": [],
   "source": [
    "import pandas as pd\n",
    "from sklearn.model_selection import train_test_split\n",
    "from sklearn.preprocessing import scale\n",
    "from sklearn.linear_model import LogisticRegression\n",
    "from sklearn.neural_network import MLPClassifier\n",
    "from sklearn.metrics import confusion_matrix\n",
    "from sklearn.metrics import accuracy_score\n",
    "from sklearn import tree\n",
    "from scipy import stats\n",
    "import matplotlib.pyplot as plt\n",
    "import numpy as np"
   ]
  },
  {
   "cell_type": "markdown",
   "metadata": {},
   "source": [
    "# Import Data"
   ]
  },
  {
   "cell_type": "code",
   "execution_count": 2,
   "metadata": {},
   "outputs": [
    {
     "data": {
      "text/html": [
       "<div>\n",
       "<style scoped>\n",
       "    .dataframe tbody tr th:only-of-type {\n",
       "        vertical-align: middle;\n",
       "    }\n",
       "\n",
       "    .dataframe tbody tr th {\n",
       "        vertical-align: top;\n",
       "    }\n",
       "\n",
       "    .dataframe thead th {\n",
       "        text-align: right;\n",
       "    }\n",
       "</style>\n",
       "<table border=\"1\" class=\"dataframe\">\n",
       "  <thead>\n",
       "    <tr style=\"text-align: right;\">\n",
       "      <th></th>\n",
       "      <th>SubjectID</th>\n",
       "      <th>VideoID</th>\n",
       "      <th>Attention</th>\n",
       "      <th>Mediation</th>\n",
       "      <th>Raw</th>\n",
       "      <th>Delta</th>\n",
       "      <th>Theta</th>\n",
       "      <th>Alpha1</th>\n",
       "      <th>Alpha2</th>\n",
       "      <th>Beta1</th>\n",
       "      <th>Beta2</th>\n",
       "      <th>Gamma1</th>\n",
       "      <th>Gamma2</th>\n",
       "      <th>predefinedlabel</th>\n",
       "      <th>user-definedlabeln</th>\n",
       "    </tr>\n",
       "  </thead>\n",
       "  <tbody>\n",
       "    <tr>\n",
       "      <th>count</th>\n",
       "      <td>12811.000000</td>\n",
       "      <td>12811.000000</td>\n",
       "      <td>12811.000000</td>\n",
       "      <td>12811.000000</td>\n",
       "      <td>12811.000000</td>\n",
       "      <td>1.281100e+04</td>\n",
       "      <td>1.281100e+04</td>\n",
       "      <td>1.281100e+04</td>\n",
       "      <td>1.281100e+04</td>\n",
       "      <td>1.281100e+04</td>\n",
       "      <td>1.281100e+04</td>\n",
       "      <td>1.281100e+04</td>\n",
       "      <td>1.281100e+04</td>\n",
       "      <td>12811.000000</td>\n",
       "      <td>12811.000000</td>\n",
       "    </tr>\n",
       "    <tr>\n",
       "      <th>mean</th>\n",
       "      <td>4.487394</td>\n",
       "      <td>4.390602</td>\n",
       "      <td>41.313871</td>\n",
       "      <td>47.182656</td>\n",
       "      <td>65.570760</td>\n",
       "      <td>6.057853e+05</td>\n",
       "      <td>1.680526e+05</td>\n",
       "      <td>4.138435e+04</td>\n",
       "      <td>3.318339e+04</td>\n",
       "      <td>2.431837e+04</td>\n",
       "      <td>3.814433e+04</td>\n",
       "      <td>2.959255e+04</td>\n",
       "      <td>1.441597e+04</td>\n",
       "      <td>0.479978</td>\n",
       "      <td>0.512606</td>\n",
       "    </tr>\n",
       "    <tr>\n",
       "      <th>std</th>\n",
       "      <td>2.865373</td>\n",
       "      <td>2.913232</td>\n",
       "      <td>23.152953</td>\n",
       "      <td>22.655976</td>\n",
       "      <td>597.921035</td>\n",
       "      <td>6.376236e+05</td>\n",
       "      <td>2.441346e+05</td>\n",
       "      <td>7.243082e+04</td>\n",
       "      <td>5.831410e+04</td>\n",
       "      <td>3.837968e+04</td>\n",
       "      <td>7.906606e+04</td>\n",
       "      <td>7.982637e+04</td>\n",
       "      <td>3.603523e+04</td>\n",
       "      <td>0.499618</td>\n",
       "      <td>0.499861</td>\n",
       "    </tr>\n",
       "    <tr>\n",
       "      <th>min</th>\n",
       "      <td>0.000000</td>\n",
       "      <td>0.000000</td>\n",
       "      <td>0.000000</td>\n",
       "      <td>0.000000</td>\n",
       "      <td>-2048.000000</td>\n",
       "      <td>4.480000e+02</td>\n",
       "      <td>1.700000e+01</td>\n",
       "      <td>2.000000e+00</td>\n",
       "      <td>2.000000e+00</td>\n",
       "      <td>3.000000e+00</td>\n",
       "      <td>2.000000e+00</td>\n",
       "      <td>1.000000e+00</td>\n",
       "      <td>2.000000e+00</td>\n",
       "      <td>0.000000</td>\n",
       "      <td>0.000000</td>\n",
       "    </tr>\n",
       "    <tr>\n",
       "      <th>25%</th>\n",
       "      <td>2.000000</td>\n",
       "      <td>2.000000</td>\n",
       "      <td>27.000000</td>\n",
       "      <td>37.000000</td>\n",
       "      <td>-14.000000</td>\n",
       "      <td>9.806400e+04</td>\n",
       "      <td>2.691750e+04</td>\n",
       "      <td>6.838000e+03</td>\n",
       "      <td>6.852000e+03</td>\n",
       "      <td>6.140000e+03</td>\n",
       "      <td>7.358500e+03</td>\n",
       "      <td>4.058000e+03</td>\n",
       "      <td>2.167500e+03</td>\n",
       "      <td>0.000000</td>\n",
       "      <td>0.000000</td>\n",
       "    </tr>\n",
       "    <tr>\n",
       "      <th>50%</th>\n",
       "      <td>4.000000</td>\n",
       "      <td>4.000000</td>\n",
       "      <td>43.000000</td>\n",
       "      <td>51.000000</td>\n",
       "      <td>35.000000</td>\n",
       "      <td>3.954870e+05</td>\n",
       "      <td>8.133100e+04</td>\n",
       "      <td>1.750000e+04</td>\n",
       "      <td>1.495900e+04</td>\n",
       "      <td>1.281800e+04</td>\n",
       "      <td>1.581000e+04</td>\n",
       "      <td>9.763000e+03</td>\n",
       "      <td>5.116000e+03</td>\n",
       "      <td>0.000000</td>\n",
       "      <td>1.000000</td>\n",
       "    </tr>\n",
       "    <tr>\n",
       "      <th>75%</th>\n",
       "      <td>7.000000</td>\n",
       "      <td>7.000000</td>\n",
       "      <td>57.000000</td>\n",
       "      <td>63.000000</td>\n",
       "      <td>90.000000</td>\n",
       "      <td>9.166230e+05</td>\n",
       "      <td>2.052760e+05</td>\n",
       "      <td>4.477950e+04</td>\n",
       "      <td>3.455050e+04</td>\n",
       "      <td>2.740600e+04</td>\n",
       "      <td>3.549400e+04</td>\n",
       "      <td>2.488800e+04</td>\n",
       "      <td>1.266950e+04</td>\n",
       "      <td>1.000000</td>\n",
       "      <td>1.000000</td>\n",
       "    </tr>\n",
       "    <tr>\n",
       "      <th>max</th>\n",
       "      <td>9.000000</td>\n",
       "      <td>9.000000</td>\n",
       "      <td>100.000000</td>\n",
       "      <td>100.000000</td>\n",
       "      <td>2047.000000</td>\n",
       "      <td>3.964663e+06</td>\n",
       "      <td>3.007802e+06</td>\n",
       "      <td>1.369955e+06</td>\n",
       "      <td>1.016913e+06</td>\n",
       "      <td>1.067778e+06</td>\n",
       "      <td>1.645369e+06</td>\n",
       "      <td>1.972506e+06</td>\n",
       "      <td>1.348117e+06</td>\n",
       "      <td>1.000000</td>\n",
       "      <td>1.000000</td>\n",
       "    </tr>\n",
       "  </tbody>\n",
       "</table>\n",
       "</div>"
      ],
      "text/plain": [
       "          SubjectID       VideoID     Attention     Mediation           Raw  \\\n",
       "count  12811.000000  12811.000000  12811.000000  12811.000000  12811.000000   \n",
       "mean       4.487394      4.390602     41.313871     47.182656     65.570760   \n",
       "std        2.865373      2.913232     23.152953     22.655976    597.921035   \n",
       "min        0.000000      0.000000      0.000000      0.000000  -2048.000000   \n",
       "25%        2.000000      2.000000     27.000000     37.000000    -14.000000   \n",
       "50%        4.000000      4.000000     43.000000     51.000000     35.000000   \n",
       "75%        7.000000      7.000000     57.000000     63.000000     90.000000   \n",
       "max        9.000000      9.000000    100.000000    100.000000   2047.000000   \n",
       "\n",
       "              Delta         Theta        Alpha1        Alpha2         Beta1  \\\n",
       "count  1.281100e+04  1.281100e+04  1.281100e+04  1.281100e+04  1.281100e+04   \n",
       "mean   6.057853e+05  1.680526e+05  4.138435e+04  3.318339e+04  2.431837e+04   \n",
       "std    6.376236e+05  2.441346e+05  7.243082e+04  5.831410e+04  3.837968e+04   \n",
       "min    4.480000e+02  1.700000e+01  2.000000e+00  2.000000e+00  3.000000e+00   \n",
       "25%    9.806400e+04  2.691750e+04  6.838000e+03  6.852000e+03  6.140000e+03   \n",
       "50%    3.954870e+05  8.133100e+04  1.750000e+04  1.495900e+04  1.281800e+04   \n",
       "75%    9.166230e+05  2.052760e+05  4.477950e+04  3.455050e+04  2.740600e+04   \n",
       "max    3.964663e+06  3.007802e+06  1.369955e+06  1.016913e+06  1.067778e+06   \n",
       "\n",
       "              Beta2        Gamma1        Gamma2  predefinedlabel  \\\n",
       "count  1.281100e+04  1.281100e+04  1.281100e+04     12811.000000   \n",
       "mean   3.814433e+04  2.959255e+04  1.441597e+04         0.479978   \n",
       "std    7.906606e+04  7.982637e+04  3.603523e+04         0.499618   \n",
       "min    2.000000e+00  1.000000e+00  2.000000e+00         0.000000   \n",
       "25%    7.358500e+03  4.058000e+03  2.167500e+03         0.000000   \n",
       "50%    1.581000e+04  9.763000e+03  5.116000e+03         0.000000   \n",
       "75%    3.549400e+04  2.488800e+04  1.266950e+04         1.000000   \n",
       "max    1.645369e+06  1.972506e+06  1.348117e+06         1.000000   \n",
       "\n",
       "       user-definedlabeln  \n",
       "count        12811.000000  \n",
       "mean             0.512606  \n",
       "std              0.499861  \n",
       "min              0.000000  \n",
       "25%              0.000000  \n",
       "50%              1.000000  \n",
       "75%              1.000000  \n",
       "max              1.000000  "
      ]
     },
     "execution_count": 2,
     "metadata": {},
     "output_type": "execute_result"
    }
   ],
   "source": [
    "df= pd.read_csv('EEG_data.csv')\n",
    "#Change SubjectID,VideoID to int and predefinedlabel and user-definedlabeln to bool\n",
    "data_types_dict = {'SubjectID': int, 'VideoID': int, 'predefinedlabel': int, 'user-definedlabeln': int} \n",
    "df = df.astype(data_types_dict) \n",
    "df.describe()\n",
    "#df.head()"
   ]
  },
  {
   "cell_type": "code",
   "execution_count": 11,
   "metadata": {},
   "outputs": [
    {
     "data": {
      "text/html": [
       "<div>\n",
       "<style scoped>\n",
       "    .dataframe tbody tr th:only-of-type {\n",
       "        vertical-align: middle;\n",
       "    }\n",
       "\n",
       "    .dataframe tbody tr th {\n",
       "        vertical-align: top;\n",
       "    }\n",
       "\n",
       "    .dataframe thead th {\n",
       "        text-align: right;\n",
       "    }\n",
       "</style>\n",
       "<table border=\"1\" class=\"dataframe\">\n",
       "  <thead>\n",
       "    <tr style=\"text-align: right;\">\n",
       "      <th></th>\n",
       "      <th>SubjectID</th>\n",
       "      <th>VideoID</th>\n",
       "      <th>Attention</th>\n",
       "      <th>Mediation</th>\n",
       "      <th>Raw</th>\n",
       "      <th>Delta</th>\n",
       "      <th>Theta</th>\n",
       "      <th>Alpha1</th>\n",
       "      <th>Alpha2</th>\n",
       "      <th>Beta1</th>\n",
       "      <th>Beta2</th>\n",
       "      <th>Gamma1</th>\n",
       "      <th>Gamma2</th>\n",
       "      <th>predefinedlabel</th>\n",
       "      <th>user-definedlabeln</th>\n",
       "    </tr>\n",
       "  </thead>\n",
       "  <tbody>\n",
       "    <tr>\n",
       "      <th>0</th>\n",
       "      <td>False</td>\n",
       "      <td>False</td>\n",
       "      <td>False</td>\n",
       "      <td>False</td>\n",
       "      <td>False</td>\n",
       "      <td>False</td>\n",
       "      <td>False</td>\n",
       "      <td>False</td>\n",
       "      <td>False</td>\n",
       "      <td>False</td>\n",
       "      <td>False</td>\n",
       "      <td>False</td>\n",
       "      <td>False</td>\n",
       "      <td>False</td>\n",
       "      <td>False</td>\n",
       "    </tr>\n",
       "    <tr>\n",
       "      <th>1</th>\n",
       "      <td>False</td>\n",
       "      <td>False</td>\n",
       "      <td>False</td>\n",
       "      <td>False</td>\n",
       "      <td>False</td>\n",
       "      <td>False</td>\n",
       "      <td>False</td>\n",
       "      <td>False</td>\n",
       "      <td>False</td>\n",
       "      <td>False</td>\n",
       "      <td>False</td>\n",
       "      <td>False</td>\n",
       "      <td>False</td>\n",
       "      <td>False</td>\n",
       "      <td>False</td>\n",
       "    </tr>\n",
       "    <tr>\n",
       "      <th>2</th>\n",
       "      <td>False</td>\n",
       "      <td>False</td>\n",
       "      <td>False</td>\n",
       "      <td>False</td>\n",
       "      <td>False</td>\n",
       "      <td>False</td>\n",
       "      <td>False</td>\n",
       "      <td>False</td>\n",
       "      <td>False</td>\n",
       "      <td>False</td>\n",
       "      <td>False</td>\n",
       "      <td>False</td>\n",
       "      <td>False</td>\n",
       "      <td>False</td>\n",
       "      <td>False</td>\n",
       "    </tr>\n",
       "    <tr>\n",
       "      <th>3</th>\n",
       "      <td>False</td>\n",
       "      <td>False</td>\n",
       "      <td>False</td>\n",
       "      <td>False</td>\n",
       "      <td>False</td>\n",
       "      <td>False</td>\n",
       "      <td>False</td>\n",
       "      <td>False</td>\n",
       "      <td>False</td>\n",
       "      <td>False</td>\n",
       "      <td>False</td>\n",
       "      <td>False</td>\n",
       "      <td>False</td>\n",
       "      <td>False</td>\n",
       "      <td>False</td>\n",
       "    </tr>\n",
       "    <tr>\n",
       "      <th>4</th>\n",
       "      <td>False</td>\n",
       "      <td>False</td>\n",
       "      <td>False</td>\n",
       "      <td>False</td>\n",
       "      <td>False</td>\n",
       "      <td>False</td>\n",
       "      <td>False</td>\n",
       "      <td>False</td>\n",
       "      <td>False</td>\n",
       "      <td>False</td>\n",
       "      <td>False</td>\n",
       "      <td>False</td>\n",
       "      <td>False</td>\n",
       "      <td>False</td>\n",
       "      <td>False</td>\n",
       "    </tr>\n",
       "    <tr>\n",
       "      <th>...</th>\n",
       "      <td>...</td>\n",
       "      <td>...</td>\n",
       "      <td>...</td>\n",
       "      <td>...</td>\n",
       "      <td>...</td>\n",
       "      <td>...</td>\n",
       "      <td>...</td>\n",
       "      <td>...</td>\n",
       "      <td>...</td>\n",
       "      <td>...</td>\n",
       "      <td>...</td>\n",
       "      <td>...</td>\n",
       "      <td>...</td>\n",
       "      <td>...</td>\n",
       "      <td>...</td>\n",
       "    </tr>\n",
       "    <tr>\n",
       "      <th>95</th>\n",
       "      <td>False</td>\n",
       "      <td>False</td>\n",
       "      <td>False</td>\n",
       "      <td>False</td>\n",
       "      <td>False</td>\n",
       "      <td>False</td>\n",
       "      <td>False</td>\n",
       "      <td>False</td>\n",
       "      <td>False</td>\n",
       "      <td>False</td>\n",
       "      <td>False</td>\n",
       "      <td>False</td>\n",
       "      <td>False</td>\n",
       "      <td>False</td>\n",
       "      <td>False</td>\n",
       "    </tr>\n",
       "    <tr>\n",
       "      <th>96</th>\n",
       "      <td>False</td>\n",
       "      <td>False</td>\n",
       "      <td>False</td>\n",
       "      <td>False</td>\n",
       "      <td>False</td>\n",
       "      <td>False</td>\n",
       "      <td>False</td>\n",
       "      <td>False</td>\n",
       "      <td>False</td>\n",
       "      <td>False</td>\n",
       "      <td>False</td>\n",
       "      <td>False</td>\n",
       "      <td>False</td>\n",
       "      <td>False</td>\n",
       "      <td>False</td>\n",
       "    </tr>\n",
       "    <tr>\n",
       "      <th>97</th>\n",
       "      <td>False</td>\n",
       "      <td>False</td>\n",
       "      <td>False</td>\n",
       "      <td>False</td>\n",
       "      <td>False</td>\n",
       "      <td>False</td>\n",
       "      <td>False</td>\n",
       "      <td>False</td>\n",
       "      <td>False</td>\n",
       "      <td>False</td>\n",
       "      <td>False</td>\n",
       "      <td>False</td>\n",
       "      <td>False</td>\n",
       "      <td>False</td>\n",
       "      <td>False</td>\n",
       "    </tr>\n",
       "    <tr>\n",
       "      <th>98</th>\n",
       "      <td>False</td>\n",
       "      <td>False</td>\n",
       "      <td>False</td>\n",
       "      <td>False</td>\n",
       "      <td>False</td>\n",
       "      <td>False</td>\n",
       "      <td>False</td>\n",
       "      <td>False</td>\n",
       "      <td>False</td>\n",
       "      <td>False</td>\n",
       "      <td>False</td>\n",
       "      <td>False</td>\n",
       "      <td>False</td>\n",
       "      <td>False</td>\n",
       "      <td>False</td>\n",
       "    </tr>\n",
       "    <tr>\n",
       "      <th>99</th>\n",
       "      <td>False</td>\n",
       "      <td>False</td>\n",
       "      <td>False</td>\n",
       "      <td>False</td>\n",
       "      <td>False</td>\n",
       "      <td>False</td>\n",
       "      <td>False</td>\n",
       "      <td>False</td>\n",
       "      <td>False</td>\n",
       "      <td>False</td>\n",
       "      <td>False</td>\n",
       "      <td>False</td>\n",
       "      <td>False</td>\n",
       "      <td>False</td>\n",
       "      <td>False</td>\n",
       "    </tr>\n",
       "  </tbody>\n",
       "</table>\n",
       "<p>100 rows × 15 columns</p>\n",
       "</div>"
      ],
      "text/plain": [
       "    SubjectID  VideoID  Attention  Mediation    Raw  Delta  Theta  Alpha1  \\\n",
       "0       False    False      False      False  False  False  False   False   \n",
       "1       False    False      False      False  False  False  False   False   \n",
       "2       False    False      False      False  False  False  False   False   \n",
       "3       False    False      False      False  False  False  False   False   \n",
       "4       False    False      False      False  False  False  False   False   \n",
       "..        ...      ...        ...        ...    ...    ...    ...     ...   \n",
       "95      False    False      False      False  False  False  False   False   \n",
       "96      False    False      False      False  False  False  False   False   \n",
       "97      False    False      False      False  False  False  False   False   \n",
       "98      False    False      False      False  False  False  False   False   \n",
       "99      False    False      False      False  False  False  False   False   \n",
       "\n",
       "    Alpha2  Beta1  Beta2  Gamma1  Gamma2  predefinedlabel  user-definedlabeln  \n",
       "0    False  False  False   False   False            False               False  \n",
       "1    False  False  False   False   False            False               False  \n",
       "2    False  False  False   False   False            False               False  \n",
       "3    False  False  False   False   False            False               False  \n",
       "4    False  False  False   False   False            False               False  \n",
       "..     ...    ...    ...     ...     ...              ...                 ...  \n",
       "95   False  False  False   False   False            False               False  \n",
       "96   False  False  False   False   False            False               False  \n",
       "97   False  False  False   False   False            False               False  \n",
       "98   False  False  False   False   False            False               False  \n",
       "99   False  False  False   False   False            False               False  \n",
       "\n",
       "[100 rows x 15 columns]"
      ]
     },
     "execution_count": 11,
     "metadata": {},
     "output_type": "execute_result"
    }
   ],
   "source": [
    "df.isna()"
   ]
  },
  {
   "cell_type": "markdown",
   "metadata": {},
   "source": [
    "1.4 Fit a LogisticRegression and MLPClassifier on the data.  Don't forget to scale the data! How do they perform?"
   ]
  },
  {
   "cell_type": "markdown",
   "metadata": {},
   "source": [
    "# Scale Data"
   ]
  },
  {
   "cell_type": "code",
   "execution_count": 4,
   "metadata": {},
   "outputs": [
    {
     "name": "stdout",
     "output_type": "stream",
     "text": [
      "Num rows is: 100\n",
      "        SubjectID     VideoID   Attention   Mediation         Raw  \\\n",
      "count  100.000000  100.000000  100.000000  100.000000  100.000000   \n",
      "mean     4.500000    4.500000   41.265577   47.177857   66.383735   \n",
      "std      2.886751    2.886751   17.505883   17.947509  102.401731   \n",
      "min      0.000000    0.000000    0.000000    0.000000   13.154930   \n",
      "25%      2.000000    2.000000   36.161885   46.197712   29.444939   \n",
      "50%      4.500000    4.500000   46.500000   51.747131   35.097222   \n",
      "75%      7.000000    7.000000   51.783874   57.866050   42.690532   \n",
      "max      9.000000    9.000000   77.024390   69.975610  575.557522   \n",
      "\n",
      "              Delta          Theta         Alpha1         Alpha2  \\\n",
      "count  1.000000e+02     100.000000     100.000000     100.000000   \n",
      "mean   6.073833e+05  168216.366980   41464.349004   33179.896425   \n",
      "std    2.850485e+05   88796.338318   24146.704232   23553.224778   \n",
      "min    1.424224e+04   12021.172414    5660.896552    6283.679389   \n",
      "25%    4.211034e+05  111776.118602   25609.379562   19241.354008   \n",
      "50%    6.465116e+05  161182.399497   37108.688084   25929.185484   \n",
      "75%    8.449240e+05  231756.654416   54060.099384   40760.398374   \n",
      "max    1.067592e+06  401609.450000  125175.672414  141040.735714   \n",
      "\n",
      "              Beta1          Beta2         Gamma1        Gamma2  \n",
      "count    100.000000     100.000000     100.000000    100.000000  \n",
      "mean   24346.383552   37805.567984   29327.029208  14395.114045  \n",
      "std    15319.615326   50326.404708   48302.369527  20015.901834  \n",
      "min     5498.307143    5187.362069    2496.897810   1771.465517  \n",
      "25%    16409.387081   14906.183352    9553.075482   3908.314778  \n",
      "50%    20116.621243   23818.593560   14847.631773   7478.579861  \n",
      "75%    25266.635356   36773.443548   26438.987846  14597.547596  \n",
      "max    96779.896552  297833.263889  287988.795775  97845.972222  \n"
     ]
    }
   ],
   "source": [
    "#EEG data for every user\n",
    "#group X by SubjectID, VideoID; find Avg values of each one minute sample\n",
    "df=df.groupby(['SubjectID','VideoID'], as_index=False).mean()\n",
    "X=df.iloc[:,:-2]\n",
    "\n",
    "print(\"Num rows is:\", X.shape[0])\n",
    "print(X.describe())"
   ]
  },
  {
   "cell_type": "code",
   "execution_count": 5,
   "metadata": {},
   "outputs": [
    {
     "name": "stdout",
     "output_type": "stream",
     "text": [
      "1     1.0\n",
      "2     1.0\n",
      "3     0.0\n",
      "4     0.0\n",
      "5     1.0\n",
      "     ... \n",
      "95    1.0\n",
      "96    0.0\n",
      "97    0.0\n",
      "98    1.0\n",
      "99    0.0\n",
      "Name: user-definedlabeln, Length: 99, dtype: float64\n"
     ]
    }
   ],
   "source": [
    "#User-defined label (confusion)\n",
    "y=df.iloc[:,-1]\n",
    "#y.index= df['SubjectID']\n",
    "print(y[1:])"
   ]
  },
  {
   "cell_type": "markdown",
   "metadata": {},
   "source": [
    "# Linear Regression"
   ]
  },
  {
   "cell_type": "code",
   "execution_count": 6,
   "metadata": {},
   "outputs": [
    {
     "name": "stdout",
     "output_type": "stream",
     "text": [
      "Length of X_train: 80\n",
      "SubjectID   -0.174078\n",
      "VideoID     -0.870388\n",
      "Attention    0.351810\n",
      "Mediation    0.860316\n",
      "Raw         -0.347440\n",
      "Delta       -0.598910\n",
      "Theta       -0.444170\n",
      "Alpha1      -0.546307\n",
      "Alpha2      -0.617884\n",
      "Beta1       -0.295062\n",
      "Beta2       -0.486032\n",
      "Gamma1      -0.405409\n",
      "Gamma2      -0.296998\n",
      "Name: 42, dtype: float64\n"
     ]
    }
   ],
   "source": [
    "X_scaled=scale(X)\n",
    "X_scaled=pd.DataFrame(X_scaled, columns=['SubjectID','VideoID','Attention','Mediation','Raw','Delta','Theta','Alpha1','Alpha2',\n",
    "                     'Beta1','Beta2','Gamma1','Gamma2'])\n",
    "X_train, X_test, y_train, y_test = train_test_split(X_scaled, y, test_size=0.2)\n",
    "print(\"Length of X_train:\",X_train.shape[0])\n",
    "print(X_train.iloc[1])"
   ]
  },
  {
   "cell_type": "code",
   "execution_count": 6,
   "metadata": {},
   "outputs": [
    {
     "name": "stdout",
     "output_type": "stream",
     "text": [
      "Confusion Matrix\n",
      " [[6 4]\n",
      " [7 3]]\n",
      "Accuracy: 0.45\n"
     ]
    }
   ],
   "source": [
    "lr = LogisticRegression(solver= \"lbfgs\", random_state=99)\n",
    "lr.fit(X_train, y_train.values)\n",
    "yhatlr= lr.predict(X_test)  #predicted regression\n",
    "print(\"Confusion Matrix\\n\", confusion_matrix(y_test,yhatlr))\n",
    "print(\"Accuracy:\", accuracy_score(y_test, yhatlr))"
   ]
  },
  {
   "cell_type": "markdown",
   "metadata": {},
   "source": [
    "# Classification"
   ]
  },
  {
   "cell_type": "code",
   "execution_count": 7,
   "metadata": {},
   "outputs": [
    {
     "name": "stdout",
     "output_type": "stream",
     "text": [
      "Confusion Matrix\n",
      " [[8 2]\n",
      " [1 9]]\n",
      "Accuracy: 0.85\n"
     ]
    }
   ],
   "source": [
    "Classify = tree.DecisionTreeClassifier()\n",
    "Classify = Classify.fit(X_train, y_train.values)\n",
    "predictclas= Classify.predict(X_test)\n",
    "print(\"Confusion Matrix\\n\", confusion_matrix(y_test,predictclas))\n",
    "print(\"Accuracy:\", accuracy_score(y_test, predictclas))"
   ]
  },
  {
   "cell_type": "markdown",
   "metadata": {},
   "source": [
    "1.5 Perform some feature engineering by (1) eliminating outliers (2) select subset of features (3) select subset of SubjectIDs. Show how these techniques affect performance of the MLPClassifier(). "
   ]
  },
  {
   "cell_type": "code",
   "execution_count": 8,
   "metadata": {},
   "outputs": [
    {
     "data": {
      "text/plain": [
       "array([[<matplotlib.axes._subplots.AxesSubplot object at 0x0000013458611820>,\n",
       "        <matplotlib.axes._subplots.AxesSubplot object at 0x000001345865BD00>,\n",
       "        <matplotlib.axes._subplots.AxesSubplot object at 0x00000134586F4190>,\n",
       "        <matplotlib.axes._subplots.AxesSubplot object at 0x00000134587241C0>],\n",
       "       [<matplotlib.axes._subplots.AxesSubplot object at 0x000001345874F610>,\n",
       "        <matplotlib.axes._subplots.AxesSubplot object at 0x000001345877C9A0>,\n",
       "        <matplotlib.axes._subplots.AxesSubplot object at 0x000001345877CA90>,\n",
       "        <matplotlib.axes._subplots.AxesSubplot object at 0x00000134587ABF40>],\n",
       "       [<matplotlib.axes._subplots.AxesSubplot object at 0x000001345880F790>,\n",
       "        <matplotlib.axes._subplots.AxesSubplot object at 0x000001345883ABE0>,\n",
       "        <matplotlib.axes._subplots.AxesSubplot object at 0x0000013458866100>,\n",
       "        <matplotlib.axes._subplots.AxesSubplot object at 0x000001345889E4F0>],\n",
       "       [<matplotlib.axes._subplots.AxesSubplot object at 0x00000134588CB940>,\n",
       "        <matplotlib.axes._subplots.AxesSubplot object at 0x00000134588F8D90>,\n",
       "        <matplotlib.axes._subplots.AxesSubplot object at 0x0000013458930220>,\n",
       "        <matplotlib.axes._subplots.AxesSubplot object at 0x000001345895C5E0>]],\n",
       "      dtype=object)"
      ]
     },
     "execution_count": 8,
     "metadata": {},
     "output_type": "execute_result"
    },
    {
     "data": {
      "image/png": "[encoded data removed]",
      "text/plain": [
       "<Figure size 1440x720 with 16 Axes>"
      ]
     },
     "metadata": {
      "needs_background": "light"
     },
     "output_type": "display_data"
    }
   ],
   "source": [
    "plt.rcParams[\"figure.figsize\"] = (20,10)\n",
    "df.hist()"
   ]
  },
  {
   "cell_type": "code",
   "execution_count": 9,
   "metadata": {},
   "outputs": [
    {
     "name": "stdout",
     "output_type": "stream",
     "text": [
      "    SubjectID  VideoID  Attention  Mediation         Raw          Delta  \\\n",
      "60          6        0        0.0        0.0  367.642857  807545.850000   \n",
      "63          6        3        0.0        0.0  355.336207  855490.258621   \n",
      "\n",
      "            Theta         Alpha1         Alpha2         Beta1          Beta2  \\\n",
      "60  401609.450000  112919.500000  141040.735714  81007.964286  112267.421429   \n",
      "63  342884.922414  125175.672414  131039.500000  96779.896552  130072.508621   \n",
      "\n",
      "          Gamma1        Gamma2  predefinedlabel  user-definedlabeln  \n",
      "60  73135.285714  79095.264286                0                   1  \n",
      "63  92971.060345  88753.534483                0                   1  \n"
     ]
    },
    {
     "data": {
      "text/plain": [
       "array([[<matplotlib.axes._subplots.AxesSubplot object at 0x0000013458611400>,\n",
       "        <matplotlib.axes._subplots.AxesSubplot object at 0x00000134590E61C0>,\n",
       "        <matplotlib.axes._subplots.AxesSubplot object at 0x000001345940FF10>,\n",
       "        <matplotlib.axes._subplots.AxesSubplot object at 0x00000134594436D0>],\n",
       "       [<matplotlib.axes._subplots.AxesSubplot object at 0x000001345946CE50>,\n",
       "        <matplotlib.axes._subplots.AxesSubplot object at 0x00000134594A2550>,\n",
       "        <matplotlib.axes._subplots.AxesSubplot object at 0x00000134594A2640>,\n",
       "        <matplotlib.axes._subplots.AxesSubplot object at 0x0000013458571EE0>],\n",
       "       [<matplotlib.axes._subplots.AxesSubplot object at 0x00000134590685B0>,\n",
       "        <matplotlib.axes._subplots.AxesSubplot object at 0x0000013458C1DEB0>,\n",
       "        <matplotlib.axes._subplots.AxesSubplot object at 0x0000013459045B50>,\n",
       "        <matplotlib.axes._subplots.AxesSubplot object at 0x0000013458CD5400>],\n",
       "       [<matplotlib.axes._subplots.AxesSubplot object at 0x0000013458D01850>,\n",
       "        <matplotlib.axes._subplots.AxesSubplot object at 0x0000013458D30CA0>,\n",
       "        <matplotlib.axes._subplots.AxesSubplot object at 0x0000013458D69130>,\n",
       "        <matplotlib.axes._subplots.AxesSubplot object at 0x0000013458D96580>]],\n",
       "      dtype=object)"
      ]
     },
     "execution_count": 9,
     "metadata": {},
     "output_type": "execute_result"
    },
    {
     "data": {
      "image/png": "[encoded data removed]",
      "text/plain": [
       "<Figure size 1440x720 with 16 Axes>"
      ]
     },
     "metadata": {
      "needs_background": "light"
     },
     "output_type": "display_data"
    }
   ],
   "source": [
    "#remove Beta1 outliers\n",
    "print(df[df[\"Beta1\"]>70000])\n",
    "new_df = df.drop([df.index[60], df.index[63]]) \n",
    "new_df.reset_index(inplace=True) \n",
    "new_df.hist()"
   ]
  },
  {
   "cell_type": "code",
   "execution_count": 10,
   "metadata": {},
   "outputs": [
    {
     "name": "stdout",
     "output_type": "stream",
     "text": [
      "    index  SubjectID  VideoID  Attention  Mediation         Raw  \\\n",
      "60     61          6        1        0.0        0.0  245.119718   \n",
      "61     62          6        2        0.0        0.0  263.959016   \n",
      "62     64          6        4        0.0        0.0  199.187500   \n",
      "\n",
      "            Delta          Theta        Alpha1        Alpha2         Beta1  \\\n",
      "60  595207.845070  231366.323944  41717.626761  46124.112676  48270.035211   \n",
      "61  584569.704918  225168.729508  38174.024590  39712.155738  47837.540984   \n",
      "62  733256.729167  255086.090278  55608.263889  51380.472222  56770.826389   \n",
      "\n",
      "            Beta2         Gamma1        Gamma2  predefinedlabel  \\\n",
      "60  275703.880282  287988.795775  76448.253521                0   \n",
      "61  276137.368852  241545.213115  82950.344262                0   \n",
      "62  297833.263889  283081.881944  97845.972222                0   \n",
      "\n",
      "    user-definedlabeln  \n",
      "60                   0  \n",
      "61                   0  \n",
      "62                   1  \n"
     ]
    },
    {
     "data": {
      "text/plain": [
       "array([[<matplotlib.axes._subplots.AxesSubplot object at 0x0000013459A0F7F0>,\n",
       "        <matplotlib.axes._subplots.AxesSubplot object at 0x0000013459A07970>,\n",
       "        <matplotlib.axes._subplots.AxesSubplot object at 0x0000013459A34F70>,\n",
       "        <matplotlib.axes._subplots.AxesSubplot object at 0x0000013459D29700>],\n",
       "       [<matplotlib.axes._subplots.AxesSubplot object at 0x0000013459D52E80>,\n",
       "        <matplotlib.axes._subplots.AxesSubplot object at 0x0000013459D86580>,\n",
       "        <matplotlib.axes._subplots.AxesSubplot object at 0x0000013459D86670>,\n",
       "        <matplotlib.axes._subplots.AxesSubplot object at 0x0000013459DB0E50>],\n",
       "       [<matplotlib.axes._subplots.AxesSubplot object at 0x0000013459E0FD00>,\n",
       "        <matplotlib.axes._subplots.AxesSubplot object at 0x0000013459E444C0>,\n",
       "        <matplotlib.axes._subplots.AxesSubplot object at 0x0000013459E6EC40>,\n",
       "        <matplotlib.axes._subplots.AxesSubplot object at 0x0000013459EA3400>],\n",
       "       [<matplotlib.axes._subplots.AxesSubplot object at 0x0000013459ECAB80>,\n",
       "        <matplotlib.axes._subplots.AxesSubplot object at 0x0000013459F02340>,\n",
       "        <matplotlib.axes._subplots.AxesSubplot object at 0x0000013459F2BAC0>,\n",
       "        <matplotlib.axes._subplots.AxesSubplot object at 0x0000013459F62280>],\n",
       "       [<matplotlib.axes._subplots.AxesSubplot object at 0x0000013459F8BA00>,\n",
       "        <matplotlib.axes._subplots.AxesSubplot object at 0x0000013459FC1100>,\n",
       "        <matplotlib.axes._subplots.AxesSubplot object at 0x0000013459FDEA30>,\n",
       "        <matplotlib.axes._subplots.AxesSubplot object at 0x000001345A0151F0>]],\n",
       "      dtype=object)"
      ]
     },
     "execution_count": 10,
     "metadata": {},
     "output_type": "execute_result"
    },
    {
     "data": {
      "image/png": "[encoded data removed]",
      "text/plain": [
       "<Figure size 1440x720 with 20 Axes>"
      ]
     },
     "metadata": {
      "needs_background": "light"
     },
     "output_type": "display_data"
    }
   ],
   "source": [
    "#remove Gamma1 outliers\n",
    "print(new_df[new_df[\"Gamma1\"]>200000])\n",
    "new_df.drop([new_df.index[60], new_df.index[61], new_df.index[62]], inplace= True) \n",
    "new_df.reset_index(inplace=True)\n",
    "new_df.hist()"
   ]
  },
  {
   "cell_type": "code",
   "execution_count": 11,
   "metadata": {},
   "outputs": [],
   "source": [
    "#New Linear Regression\n",
    "X=new_df.iloc[:,:-2]\n",
    "new_X_scaled=scale(X)\n",
    "new_y= new_df.iloc[:,-1]\n",
    "X_train, X_test, y_train, y_test = train_test_split(new_X_scaled, new_y, test_size=0.2)"
   ]
  },
  {
   "cell_type": "code",
   "execution_count": 13,
   "metadata": {},
   "outputs": [
    {
     "name": "stdout",
     "output_type": "stream",
     "text": [
      "Confusion Matrix\n",
      " [[5 4]\n",
      " [2 8]]\n",
      "Accuracy: 0.6842105263157895\n"
     ]
    }
   ],
   "source": [
    "lr.fit(X_train, y_train.values)\n",
    "yhatlr= lr.predict(X_test)  #predicted regression\n",
    "print(\"Confusion Matrix\\n\", confusion_matrix(y_test,yhatlr))\n",
    "print(\"Accuracy:\", accuracy_score(y_test, yhatlr))"
   ]
  },
  {
   "cell_type": "code",
   "execution_count": 14,
   "metadata": {},
   "outputs": [
    {
     "name": "stdout",
     "output_type": "stream",
     "text": [
      "Confusion Matrix\n",
      " [[5 4]\n",
      " [2 8]]\n",
      "Accuracy: 0.6842105263157895\n"
     ]
    }
   ],
   "source": [
    "Classify = Classify.fit(X_train, y_train.values)\n",
    "predictclas= Classify.predict(X_test)\n",
    "print(\"Confusion Matrix\\n\", confusion_matrix(y_test,predictclas))\n",
    "print(\"Accuracy:\", accuracy_score(y_test, predictclas))"
   ]
  },
  {
   "cell_type": "code",
   "execution_count": 18,
   "metadata": {},
   "outputs": [
    {
     "name": "stdout",
     "output_type": "stream",
     "text": [
      "    level_0  index  SubjectID  VideoID  Attention  Mediation         Raw  \\\n",
      "60       63     65          6        5        0.0        0.0  395.211382   \n",
      "61       64     66          6        6        0.0        0.0  418.474138   \n",
      "62       65     67          6        7        0.0        0.0  575.557522   \n",
      "63       66     68          6        8        0.0        0.0  426.967213   \n",
      "64       67     69          6        9        0.0        0.0  300.868613   \n",
      "\n",
      "            Delta          Theta        Alpha1        Alpha2         Beta1  \\\n",
      "60  675630.024390  171916.975610  44623.520325  67194.674797  49157.894309   \n",
      "61  793951.129310  247062.775862  42978.517241  75027.982759  61951.905172   \n",
      "62  755965.451327  172671.761062  56392.849558  66123.716814  55284.522124   \n",
      "63  879076.180328  241419.540984  83642.090164  93757.442623  64246.565574   \n",
      "64  822708.664234  208945.313869  67313.576642  77372.233577  51915.080292   \n",
      "\n",
      "            Beta2         Gamma1        Gamma2  predefinedlabel  \\\n",
      "60  104084.016260  109254.373984  52460.349593                1   \n",
      "61  159168.862069  146848.155172  66681.189655                1   \n",
      "62   59506.106195   53265.513274  49019.353982                1   \n",
      "63   83454.622951   55968.057377  56787.360656                1   \n",
      "64   72598.350365   61240.481752  49866.518248                1   \n",
      "\n",
      "    user-definedlabeln  \n",
      "60                   0  \n",
      "61                   1  \n",
      "62                   0  \n",
      "63                   1  \n",
      "64                   0  \n"
     ]
    },
    {
     "ename": "ValueError",
     "evalue": "cannot insert level_0, already exists",
     "output_type": "error",
     "traceback": [
      "\u001b[1;31m---------------------------------------------------------------------------\u001b[0m",
      "\u001b[1;31mValueError\u001b[0m                                Traceback (most recent call last)",
      "\u001b[1;32m<ipython-input-18-2148fe15c5f0>\u001b[0m in \u001b[0;36m<module>\u001b[1;34m\u001b[0m\n\u001b[0;32m      2\u001b[0m new_df.drop([new_df.index[60], new_df.index[61], new_df.index[62], new_df.index[63], new_df.index[64], new_df.index[65],\n\u001b[0;32m      3\u001b[0m             new_df.index[66],new_df.index[67],new_df.index[68],new_df.index[69]], inplace= True) \n\u001b[1;32m----> 4\u001b[1;33m \u001b[0mnew_df\u001b[0m\u001b[1;33m.\u001b[0m\u001b[0mreset_index\u001b[0m\u001b[1;33m(\u001b[0m\u001b[0minplace\u001b[0m\u001b[1;33m=\u001b[0m\u001b[1;32mTrue\u001b[0m\u001b[1;33m)\u001b[0m\u001b[1;33m\u001b[0m\u001b[1;33m\u001b[0m\u001b[0m\n\u001b[0m",
      "\u001b[1;32m~\\anaconda3\\lib\\site-packages\\pandas\\core\\frame.py\u001b[0m in \u001b[0;36mreset_index\u001b[1;34m(self, level, drop, inplace, col_level, col_fill)\u001b[0m\n\u001b[0;32m   4602\u001b[0m                 \u001b[1;31m# to ndarray and maybe infer different dtype\u001b[0m\u001b[1;33m\u001b[0m\u001b[1;33m\u001b[0m\u001b[1;33m\u001b[0m\u001b[0m\n\u001b[0;32m   4603\u001b[0m                 \u001b[0mlevel_values\u001b[0m \u001b[1;33m=\u001b[0m \u001b[0m_maybe_casted_values\u001b[0m\u001b[1;33m(\u001b[0m\u001b[0mlev\u001b[0m\u001b[1;33m,\u001b[0m \u001b[0mlab\u001b[0m\u001b[1;33m)\u001b[0m\u001b[1;33m\u001b[0m\u001b[1;33m\u001b[0m\u001b[0m\n\u001b[1;32m-> 4604\u001b[1;33m                 \u001b[0mnew_obj\u001b[0m\u001b[1;33m.\u001b[0m\u001b[0minsert\u001b[0m\u001b[1;33m(\u001b[0m\u001b[1;36m0\u001b[0m\u001b[1;33m,\u001b[0m \u001b[0mname\u001b[0m\u001b[1;33m,\u001b[0m \u001b[0mlevel_values\u001b[0m\u001b[1;33m)\u001b[0m\u001b[1;33m\u001b[0m\u001b[1;33m\u001b[0m\u001b[0m\n\u001b[0m\u001b[0;32m   4605\u001b[0m \u001b[1;33m\u001b[0m\u001b[0m\n\u001b[0;32m   4606\u001b[0m         \u001b[0mnew_obj\u001b[0m\u001b[1;33m.\u001b[0m\u001b[0mindex\u001b[0m \u001b[1;33m=\u001b[0m \u001b[0mnew_index\u001b[0m\u001b[1;33m\u001b[0m\u001b[1;33m\u001b[0m\u001b[0m\n",
      "\u001b[1;32m~\\anaconda3\\lib\\site-packages\\pandas\\core\\frame.py\u001b[0m in \u001b[0;36minsert\u001b[1;34m(self, loc, column, value, allow_duplicates)\u001b[0m\n\u001b[0;32m   3494\u001b[0m         \u001b[0mself\u001b[0m\u001b[1;33m.\u001b[0m\u001b[0m_ensure_valid_index\u001b[0m\u001b[1;33m(\u001b[0m\u001b[0mvalue\u001b[0m\u001b[1;33m)\u001b[0m\u001b[1;33m\u001b[0m\u001b[1;33m\u001b[0m\u001b[0m\n\u001b[0;32m   3495\u001b[0m         \u001b[0mvalue\u001b[0m \u001b[1;33m=\u001b[0m \u001b[0mself\u001b[0m\u001b[1;33m.\u001b[0m\u001b[0m_sanitize_column\u001b[0m\u001b[1;33m(\u001b[0m\u001b[0mcolumn\u001b[0m\u001b[1;33m,\u001b[0m \u001b[0mvalue\u001b[0m\u001b[1;33m,\u001b[0m \u001b[0mbroadcast\u001b[0m\u001b[1;33m=\u001b[0m\u001b[1;32mFalse\u001b[0m\u001b[1;33m)\u001b[0m\u001b[1;33m\u001b[0m\u001b[1;33m\u001b[0m\u001b[0m\n\u001b[1;32m-> 3496\u001b[1;33m         \u001b[0mself\u001b[0m\u001b[1;33m.\u001b[0m\u001b[0m_data\u001b[0m\u001b[1;33m.\u001b[0m\u001b[0minsert\u001b[0m\u001b[1;33m(\u001b[0m\u001b[0mloc\u001b[0m\u001b[1;33m,\u001b[0m \u001b[0mcolumn\u001b[0m\u001b[1;33m,\u001b[0m \u001b[0mvalue\u001b[0m\u001b[1;33m,\u001b[0m \u001b[0mallow_duplicates\u001b[0m\u001b[1;33m=\u001b[0m\u001b[0mallow_duplicates\u001b[0m\u001b[1;33m)\u001b[0m\u001b[1;33m\u001b[0m\u001b[1;33m\u001b[0m\u001b[0m\n\u001b[0m\u001b[0;32m   3497\u001b[0m \u001b[1;33m\u001b[0m\u001b[0m\n\u001b[0;32m   3498\u001b[0m     \u001b[1;32mdef\u001b[0m \u001b[0massign\u001b[0m\u001b[1;33m(\u001b[0m\u001b[0mself\u001b[0m\u001b[1;33m,\u001b[0m \u001b[1;33m**\u001b[0m\u001b[0mkwargs\u001b[0m\u001b[1;33m)\u001b[0m \u001b[1;33m->\u001b[0m \u001b[1;34m\"DataFrame\"\u001b[0m\u001b[1;33m:\u001b[0m\u001b[1;33m\u001b[0m\u001b[1;33m\u001b[0m\u001b[0m\n",
      "\u001b[1;32m~\\anaconda3\\lib\\site-packages\\pandas\\core\\internals\\managers.py\u001b[0m in \u001b[0;36minsert\u001b[1;34m(self, loc, item, value, allow_duplicates)\u001b[0m\n\u001b[0;32m   1171\u001b[0m         \u001b[1;32mif\u001b[0m \u001b[1;32mnot\u001b[0m \u001b[0mallow_duplicates\u001b[0m \u001b[1;32mand\u001b[0m \u001b[0mitem\u001b[0m \u001b[1;32min\u001b[0m \u001b[0mself\u001b[0m\u001b[1;33m.\u001b[0m\u001b[0mitems\u001b[0m\u001b[1;33m:\u001b[0m\u001b[1;33m\u001b[0m\u001b[1;33m\u001b[0m\u001b[0m\n\u001b[0;32m   1172\u001b[0m             \u001b[1;31m# Should this be a different kind of error??\u001b[0m\u001b[1;33m\u001b[0m\u001b[1;33m\u001b[0m\u001b[1;33m\u001b[0m\u001b[0m\n\u001b[1;32m-> 1173\u001b[1;33m             \u001b[1;32mraise\u001b[0m \u001b[0mValueError\u001b[0m\u001b[1;33m(\u001b[0m\u001b[1;34mf\"cannot insert {item}, already exists\"\u001b[0m\u001b[1;33m)\u001b[0m\u001b[1;33m\u001b[0m\u001b[1;33m\u001b[0m\u001b[0m\n\u001b[0m\u001b[0;32m   1174\u001b[0m \u001b[1;33m\u001b[0m\u001b[0m\n\u001b[0;32m   1175\u001b[0m         \u001b[1;32mif\u001b[0m \u001b[1;32mnot\u001b[0m \u001b[0misinstance\u001b[0m\u001b[1;33m(\u001b[0m\u001b[0mloc\u001b[0m\u001b[1;33m,\u001b[0m \u001b[0mint\u001b[0m\u001b[1;33m)\u001b[0m\u001b[1;33m:\u001b[0m\u001b[1;33m\u001b[0m\u001b[1;33m\u001b[0m\u001b[0m\n",
      "\u001b[1;31mValueError\u001b[0m: cannot insert level_0, already exists"
     ]
    }
   ],
   "source": [
    "print(new_df[new_df[\"SubjectID\"]==6])\n",
    "new_df.drop([new_df.index[60], new_df.index[61], new_df.index[62], new_df.index[63], new_df.index[64], new_df.index[65],\n",
    "            new_df.index[66],new_df.index[67],new_df.index[68],new_df.index[69]], inplace= True) \n",
    "new_df.reset_index(inplace=True)"
   ]
  },
  {
   "cell_type": "code",
   "execution_count": 56,
   "metadata": {},
   "outputs": [],
   "source": [
    "#New Linear Regression after dropping subject 6 \n",
    "X=new_df.iloc[:,:-2]\n",
    "new_X_scaled=scale(X)\n",
    "new_y= new_df.iloc[:,-1]\n",
    "X_train, X_test, y_train, y_test = train_test_split(new_X_scaled, new_y, test_size=0.2)"
   ]
  },
  {
   "cell_type": "code",
   "execution_count": 57,
   "metadata": {},
   "outputs": [
    {
     "name": "stdout",
     "output_type": "stream",
     "text": [
      "Confusion Matrix\n",
      " [[5 4]\n",
      " [1 7]]\n",
      "Accuracy: 0.7058823529411765\n"
     ]
    }
   ],
   "source": [
    "lr.fit(X_train, y_train.values)\n",
    "yhatlr= lr.predict(X_test)  #predicted regression\n",
    "print(\"Confusion Matrix\\n\", confusion_matrix(y_test,yhatlr))\n",
    "print(\"Accuracy:\", accuracy_score(y_test, yhatlr))"
   ]
  },
  {
   "cell_type": "code",
   "execution_count": 70,
   "metadata": {},
   "outputs": [
    {
     "name": "stdout",
     "output_type": "stream",
     "text": [
      "Confusion Matrix\n",
      " [[7 2]\n",
      " [0 8]]\n",
      "Accuracy: 0.8823529411764706\n"
     ]
    }
   ],
   "source": [
    "Classify = Classify.fit(X_train, y_train.values)\n",
    "predictclas= Classify.predict(X_test)\n",
    "print(\"Confusion Matrix\\n\", confusion_matrix(y_test,predictclas))\n",
    "print(\"Accuracy:\", accuracy_score(y_test, predictclas))"
   ]
  },
  {
   "cell_type": "markdown",
   "metadata": {},
   "source": [
    "The removal of outliers improves the accuracy of LR while lowering that of Classification, while the removal of subject 6 afterwards seems to improve accuracy of both LR and Classification "
   ]
  },
  {
   "cell_type": "code",
   "execution_count": null,
   "metadata": {},
   "outputs": [],
   "source": []
  }
 ],
 "metadata": {
  "kernelspec": {
   "display_name": "Python 3",
   "language": "python",
   "name": "python3"
  },
  "language_info": {
   "codemirror_mode": {
    "name": "ipython",
    "version": 3
   },
   "file_extension": ".py",
   "mimetype": "text/x-python",
   "name": "python",
   "nbconvert_exporter": "python",
   "pygments_lexer": "ipython3",
   "version": "3.8.3"
  }
 },
 "nbformat": 4,
 "nbformat_minor": 4
}
